{
 "cells": [
  {
   "cell_type": "markdown",
   "id": "78b75da2",
   "metadata": {},
   "source": [
    "### x^2 +y^2\n",
    "| trace  | elem op. | value            | elem der.              | grad x | grad y         |\n",
    "| ------ |:--------:| ----------------:|------------------------| ------:| --------------:|\n",
    "|  x     |   input  |       1          |      \\dot(x)                  |   1    |        0       |\n",
    "| y      |   input  |  1               |       \\dot(y)                |   0    |   1            |\n",
    "| v_1    |  x^2     |      1           |  2x\\dot(x)             |   2    |   0            |\n",
    "| v_2    |  y^2     |   1              |  2y\\dot(y)             |  0     | 2              |\n",
    "| v_3    |v_1 + v_2 |    2             | \\dot(v_1) + \\dot(v_2)  |  2     | 2              |\n",
    "\n",
    "\n",
    "#### exp(x+y)\n",
    "| trace  | elem op. | value          | elem der.              | grad x | grad y     |\n",
    "| ------ |:--------:| --------------:|------------------------| ------:| ----------:|\n",
    "| x      |   input  |        1       |      \\dot(x)                 |   1    |   0        |\n",
    "| y      |   input  |        1       |       \\dot(y)               |   0    |   1        |\n",
    "| v_1    |  x+y     |     2          |  \\dot(x) + \\dot(y)     |   1    |   1         |\n",
    "| v_2    |\\exp(v_1) |    \\exp(2)     |   \\exp(v_1) \\dot(v_1） | \\exp(2)| \\exp(2)     |\n"
   ]
  },
  {
   "cell_type": "code",
   "execution_count": null,
   "id": "f8408f2c",
   "metadata": {},
   "outputs": [],
   "source": []
  }
 ],
 "metadata": {
  "kernelspec": {
   "display_name": "Python 3",
   "language": "python",
   "name": "python3"
  },
  "language_info": {
   "codemirror_mode": {
    "name": "ipython",
    "version": 3
   },
   "file_extension": ".py",
   "mimetype": "text/x-python",
   "name": "python",
   "nbconvert_exporter": "python",
   "pygments_lexer": "ipython3",
   "version": "3.8.8"
  }
 },
 "nbformat": 4,
 "nbformat_minor": 5
}
